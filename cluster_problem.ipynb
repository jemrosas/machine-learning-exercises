{
 "cells": [
  {
   "cell_type": "markdown",
   "metadata": {},
   "source": [
    "## Coding Problem #0401"
   ]
  },
  {
   "cell_type": "markdown",
   "metadata": {},
   "source": [
    "### \"Optimal number of clusters for K-means clustering\""
   ]
  },
  {
   "cell_type": "code",
   "execution_count": 1,
   "metadata": {},
   "outputs": [],
   "source": [
    "import numpy as np\n",
    "import pandas as pd\n",
    "import matplotlib.pyplot as plt\n",
    "from sklearn.datasets import make_blobs\n",
    "from sklearn.cluster import KMeans\n",
    "%matplotlib inline"
   ]
  },
  {
   "cell_type": "markdown",
   "metadata": {},
   "source": [
    "#### Answer the following question by providing Python code:"
   ]
  },
  {
   "cell_type": "code",
   "execution_count": 2,
   "metadata": {},
   "outputs": [
    {
     "data": {
      "text/plain": [
       "(150, 8)"
      ]
     },
     "execution_count": 2,
     "metadata": {},
     "output_type": "execute_result"
    }
   ],
   "source": [
    "# We will use simulated data.\n",
    "# 3 clusters in 8 dimensional space.\n",
    "# Hard to visualize!\n",
    "X, label = make_blobs(n_samples=150, n_features=8, centers=3, cluster_std = 2, random_state=123)\n",
    "X.shape"
   ]
  },
  {
   "cell_type": "markdown",
   "metadata": {},
   "source": [
    "1). Define a function that calculates the \"total internal sum of squares\".\n",
    "- X         :   Data.\n",
    "- centers   :   Array that contains the centroid coordinates. Calculated by kmeans.\n",
    "- clusters  :   Array of cluster labels. Calculated by kmeans. <br> <br>\n",
    "HINT: Implement the formula from the lecture note."
   ]
  },
  {
   "cell_type": "code",
   "execution_count": 22,
   "metadata": {},
   "outputs": [],
   "source": [
    "def total_internal_ss(X, centers, clusters):\n",
    "    n_clusters = centers.shape[0]\n",
    "    n_columns = centers.shape[1]\n",
    "    n_rows = X.shape[0]\n",
    "    nearest_centers = np.zeros((n_rows, n_columns))\n",
    "    for n in range(n_clusters):\n",
    "        i = (clusters == n)\n",
    "        for j in range(n_columns):\n",
    "            nearest_centers[i,j] = centers[n,j]\n",
    "    return np.sum((X - nearest_centers)**2.0)  #Cálculo de la suma de distancias cuadradas entre centroides"
   ]
  },
  {
   "cell_type": "markdown",
   "metadata": {},
   "source": [
    "2). Visualize as a Scatter plot the \"total internal sum of squares\" vs N# of clusters. \n",
    "- Then, determine the optimal number of clusters.\n",
    "- Is this number the same as expected?"
   ]
  },
  {
   "cell_type": "code",
   "execution_count": 23,
   "metadata": {},
   "outputs": [
    {
     "name": "stdout",
     "output_type": "stream",
     "text": [
      "[10921.71272404  4665.30132239  4412.97967593  4191.10090004\n",
      "  4020.17317302  3812.08109521  3699.58094689  3552.42235338\n",
      "  3447.59224067]\n"
     ]
    }
   ],
   "source": [
    "n_cluster = np.array(range(2,11))\n",
    "total_ss = []\n",
    "for n in n_cluster:\n",
    "    kmeans = KMeans(n_clusters=n)\n",
    "    clusters = kmeans.fit(X).labels_\n",
    "    centers = kmeans.cluster_centers_\n",
    "    total_ss = np.append(total_ss, total_internal_ss(X,centers,clusters))\n",
    "    \n",
    "print(total_ss)"
   ]
  },
  {
   "cell_type": "code",
   "execution_count": null,
   "metadata": {},
   "outputs": [],
   "source": []
  },
  {
   "cell_type": "code",
   "execution_count": 25,
   "metadata": {},
   "outputs": [
    {
     "data": {
      "image/png": "[encoded data removed]",
      "text/plain": [
       "<Figure size 432x288 with 1 Axes>"
      ]
     },
     "metadata": {
      "needs_background": "light"
     },
     "output_type": "display_data"
    }
   ],
   "source": [
    "# Ploteamos los datos obtenidos en el paso anterior para ver el punto de inflexión o 'codo'\n",
    "plt.plot(n_cluster,total_ss)\n",
    "plt.xlabel('Número de grupos')\n",
    "plt.ylabel('Total SS Interna')\n",
    "plt.show()"
   ]
  },
  {
   "cell_type": "markdown",
   "metadata": {},
   "source": [
    "### Confirmamos que el número idóneo de clusters es 3 por el punto de inflexión o codo"
   ]
  },
  {
   "cell_type": "code",
   "execution_count": null,
   "metadata": {},
   "outputs": [],
   "source": []
  }
 ],
 "metadata": {
  "kernelspec": {
   "display_name": "Python 3",
   "language": "python",
   "name": "python3"
  },
  "language_info": {
   "codemirror_mode": {
    "name": "ipython",
    "version": 3
   },
   "file_extension": ".py",
   "mimetype": "text/x-python",
   "name": "python",
   "nbconvert_exporter": "python",
   "pygments_lexer": "ipython3",
   "version": "3.8.8"
  }
 },
 "nbformat": 4,
 "nbformat_minor": 2
}
