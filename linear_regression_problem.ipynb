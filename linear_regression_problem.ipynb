{
 "cells": [
  {
   "cell_type": "markdown",
   "metadata": {},
   "source": [
    "## Quiz #0402"
   ]
  },
  {
   "cell_type": "markdown",
   "metadata": {},
   "source": [
    "### \"OLS solution\""
   ]
  },
  {
   "cell_type": "code",
   "execution_count": 3,
   "metadata": {},
   "outputs": [],
   "source": [
    "import numpy as np\n",
    "import pandas as pd"
   ]
  },
  {
   "cell_type": "markdown",
   "metadata": {},
   "source": [
    "#### Answer the following question by providing Python code:\n",
    "<br>\n",
    "study = an array that contains the hours of study. This is the explanatory variable. <br>\n",
    "score = an array that contains the test scores. This is the response variable."
   ]
  },
  {
   "cell_type": "code",
   "execution_count": 4,
   "metadata": {},
   "outputs": [],
   "source": [
    "study = np.array([ 3, 4.5, 6, 1.2, 2, 6.9, 6.7, 5.5]).reshape(-1,1)\n",
    "score = np.array([ 88, 85, 90, 80, 81, 92, 95, 90]).reshape(-1,1)"
   ]
  },
  {
   "cell_type": "markdown",
   "metadata": {},
   "source": [
    "1). Define the 'linerRegression' class to match the output shown below:"
   ]
  },
  {
   "cell_type": "code",
   "execution_count": 12,
   "metadata": {},
   "outputs": [],
   "source": [
    "class linearRegression:\n",
    "    def __init__(self):\n",
    "        pass\n",
    "        \n",
    "    def train(self, input_X, input_Y):\n",
    "        n = input_X.shape[0]\n",
    "        k = input_X.shape[1]\n",
    "        ones_column = np.ones((n,1))\n",
    "        X = np.concatenate((ones_column,input_X),axis=1)\n",
    "        Y = input_Y.copy()\n",
    "\n",
    "        # Coeficiente de Regresión por el método de OLS.\n",
    "        self.beta = np.dot(np.linalg.inv(np.dot(X.T,X)),np.dot(X.T,Y))\n",
    "        \n",
    "        # Residuos.\n",
    "        self.residuals = Y - np.dot(X,self.beta)\n",
    "        \n",
    "        # R^2.\n",
    "        SSE = np.dot((self.residuals).T, self.residuals)\n",
    "        SST = np.dot((Y - Y.mean()).T, (Y - Y.mean()))\n",
    "        self.rsquared = 1.0 - SSE[0][0]/SST[0][0]\n",
    "        \n",
    "        # Resumen.\n",
    "        self.summary=pd.DataFrame(self.beta,columns = ['Coefficient'])\n",
    "        features = ['Intercept']\n",
    "        for i in range(1,k+1):\n",
    "            features += ['X' + str(i)]\n",
    "        self.summary.index = features\n",
    "        pass\n",
    "    \n",
    "    def output(self):\n",
    "        print(self.summary)\n",
    "        print(\"-\"*25)\n",
    "        print(\"R^2 : %f\" % self.rsquared)"
   ]
  },
  {
   "cell_type": "markdown",
   "metadata": {},
   "source": [
    "**Sample run:**"
   ]
  },
  {
   "cell_type": "code",
   "execution_count": 13,
   "metadata": {},
   "outputs": [
    {
     "name": "stdout",
     "output_type": "stream",
     "text": [
      "           Coefficient\n",
      "Intercept    77.684670\n",
      "X1            2.221303\n",
      "-------------------------\n",
      "R^2 : 0.845842\n"
     ]
    }
   ],
   "source": [
    "LR = linearRegression()                    # Create a linear regression object.\n",
    "LR.train(study, score)                     # Train.\n",
    "LR.output()                                # Display the training result."
   ]
  },
  {
   "cell_type": "code",
   "execution_count": null,
   "metadata": {},
   "outputs": [],
   "source": []
  }
 ],
 "metadata": {
  "kernelspec": {
   "display_name": "Python 3",
   "language": "python",
   "name": "python3"
  },
  "language_info": {
   "codemirror_mode": {
    "name": "ipython",
    "version": 3
   },
   "file_extension": ".py",
   "mimetype": "text/x-python",
   "name": "python",
   "nbconvert_exporter": "python",
   "pygments_lexer": "ipython3",
   "version": "3.8.8"
  }
 },
 "nbformat": 4,
 "nbformat_minor": 2
}
